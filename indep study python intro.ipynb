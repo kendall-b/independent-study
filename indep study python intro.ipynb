{
 "cells": [
  {
   "cell_type": "markdown",
   "id": "f1630f94",
   "metadata": {},
   "source": [
    "simple event-driven graphics program\n",
    "\n",
    "simple form generators"
   ]
  },
  {
   "cell_type": "markdown",
   "id": "dea66665",
   "metadata": {},
   "source": [
    " ### data types"
   ]
  },
  {
   "cell_type": "markdown",
   "id": "defbf34b",
   "metadata": {},
   "source": [
    "strings"
   ]
  },
  {
   "cell_type": "code",
   "execution_count": 1,
   "id": "dc12479b",
   "metadata": {},
   "outputs": [
    {
     "name": "stdout",
     "output_type": "stream",
     "text": [
      "hello world\n"
     ]
    }
   ],
   "source": [
    "string = \"hello world\"\n",
    "print(string)"
   ]
  },
  {
   "cell_type": "markdown",
   "id": "abc3d9c7",
   "metadata": {},
   "source": [
    "lists"
   ]
  },
  {
   "cell_type": "code",
   "execution_count": 2,
   "id": "8b1b781a",
   "metadata": {},
   "outputs": [
    {
     "name": "stdout",
     "output_type": "stream",
     "text": [
      "[0, 1, 2, 3, 4, 5, 6]\n",
      "[0, 1, 2, 3, 4, 5, 6, 7, 8, 9]\n"
     ]
    }
   ],
   "source": [
    "examplelist = [0, 1, 2, 3, 4, 5, 6]\n",
    "print(examplelist)\n",
    "examplelist.append(7)\n",
    "examplelist.append(8)\n",
    "examplelist.append(9)\n",
    "print(examplelist)"
   ]
  },
  {
   "cell_type": "markdown",
   "id": "9c1c8fc7",
   "metadata": {},
   "source": [
    "tuples"
   ]
  },
  {
   "cell_type": "code",
   "execution_count": 3,
   "id": "f6ba2a7a",
   "metadata": {},
   "outputs": [
    {
     "name": "stdout",
     "output_type": "stream",
     "text": [
      "('hello', 0, 1, 2, 3, 4)\n",
      "('hello', 0)\n"
     ]
    }
   ],
   "source": [
    "tuple1 = (\"hello\", 0, 1, 2, 3, 4)\n",
    "print(tuple1)\n",
    "print(tuple1[0:2])"
   ]
  },
  {
   "cell_type": "markdown",
   "id": "4b670042",
   "metadata": {},
   "source": [
    "dictionaries"
   ]
  },
  {
   "cell_type": "code",
   "execution_count": 4,
   "id": "26161d8c",
   "metadata": {},
   "outputs": [
    {
     "name": "stdout",
     "output_type": "stream",
     "text": [
      "empty dictionary: {}\n",
      "dictionary with values: {0: 'apple', 1: 'orange', 2: 'banana', 3: 'watermelon'}\n",
      "updated dictionary:  {0: 'apple', 1: 'orange', 2: 'grape', 3: 'watermelon'}\n"
     ]
    }
   ],
   "source": [
    "exampledict = {}\n",
    "print(\"empty dictionary:\", exampledict)\n",
    "exampledict[0] = \"apple\"\n",
    "exampledict[1] = \"orange\"\n",
    "exampledict[2] = \"banana\"\n",
    "exampledict[3] = \"watermelon\"\n",
    "print(\"dictionary with values:\", exampledict)\n",
    "exampledict[2] = \"grape\"\n",
    "print(\"updated dictionary: \", exampledict)"
   ]
  },
  {
   "cell_type": "markdown",
   "id": "8358a1f5",
   "metadata": {},
   "source": [
    "### sequential, conditional, and loop statements"
   ]
  },
  {
   "cell_type": "markdown",
   "id": "79d672b4",
   "metadata": {},
   "source": [
    "if statements"
   ]
  },
  {
   "cell_type": "code",
   "execution_count": 9,
   "id": "42949688",
   "metadata": {},
   "outputs": [
    {
     "name": "stdout",
     "output_type": "stream",
     "text": [
      "input a whole number greater than zero8\n",
      "8 is positive and even\n"
     ]
    }
   ],
   "source": [
    "x = int(input(\"input a whole number greater than zero\"))\n",
    "\n",
    "if x <= 0:\n",
    "    print(\"invalid input\")\n",
    "elif (x%2 == 0):\n",
    "    print(x, \"is positive and even\")\n",
    "else:\n",
    "    print(x, \"is positive and odd\")"
   ]
  },
  {
   "cell_type": "markdown",
   "id": "313639cc",
   "metadata": {},
   "source": [
    "for loops"
   ]
  },
  {
   "cell_type": "code",
   "execution_count": 6,
   "id": "fa2c6666",
   "metadata": {},
   "outputs": [
    {
     "name": "stdout",
     "output_type": "stream",
     "text": [
      "[0, 1, 2, 3, 4, 5, 6, 7, 8, 9]\n"
     ]
    }
   ],
   "source": [
    "values = 10\n",
    "index = []\n",
    "\n",
    "for value in range(values):\n",
    "    index += [value]\n",
    "    \n",
    "print(index)"
   ]
  },
  {
   "cell_type": "markdown",
   "id": "62e5d3f0",
   "metadata": {},
   "source": [
    "while statements"
   ]
  },
  {
   "cell_type": "code",
   "execution_count": 7,
   "id": "bd153595",
   "metadata": {},
   "outputs": [
    {
     "name": "stdout",
     "output_type": "stream",
     "text": [
      "[0, 1, 2, 3, 4, 5]\n"
     ]
    }
   ],
   "source": [
    "examplelist = []\n",
    "count = 0\n",
    "\n",
    "while count < 6:\n",
    "    examplelist += [count]\n",
    "    count += 1\n",
    "    \n",
    "print(examplelist)"
   ]
  },
  {
   "cell_type": "markdown",
   "id": "412c0f01",
   "metadata": {},
   "source": [
    "### classes and objects"
   ]
  },
  {
   "cell_type": "code",
   "execution_count": 8,
   "id": "d8dfa139",
   "metadata": {},
   "outputs": [
    {
     "name": "stdout",
     "output_type": "stream",
     "text": [
      "area 1969.14366102218\n",
      "levels 1\n"
     ]
    }
   ],
   "source": [
    "# generate a building with a random area and number of floors\n",
    "\n",
    "import random \n",
    "\n",
    "class Building:\n",
    "    def __init__(self):\n",
    "        self.area = random.uniform(1000, 3000)\n",
    "        self.levels = random.randrange(1, 3, 1)\n",
    "    \n",
    "    def buildinglayout(self):\n",
    "        return self.area, self.levels\n",
    "    \n",
    "building = Building()\n",
    "print(\"area\", building.area)\n",
    "print(\"levels\", building.levels)"
   ]
  },
  {
   "cell_type": "markdown",
   "id": "c49dbc78",
   "metadata": {},
   "source": [
    "### recursion"
   ]
  },
  {
   "cell_type": "code",
   "execution_count": 14,
   "id": "2162ef5b",
   "metadata": {},
   "outputs": [
    {
     "name": "stdout",
     "output_type": "stream",
     "text": [
      "10\n",
      "9\n",
      "8\n",
      "7\n",
      "6\n",
      "5\n",
      "4\n",
      "3\n",
      "2\n",
      "1\n",
      "liftoff!\n"
     ]
    }
   ],
   "source": [
    "# make a function that counts down to liftoff\n",
    "\n",
    "def countdown(seconds):\n",
    "    for time in range(seconds+1):\n",
    "        if (seconds < 0):\n",
    "            print(\"invalid input\")\n",
    "            return -1\n",
    "        elif (seconds == 0):\n",
    "            print(\"liftoff!\")\n",
    "            return \n",
    "        else:\n",
    "            print(seconds)\n",
    "            seconds = seconds - 1\n",
    "\n",
    "countdown(10)"
   ]
  },
  {
   "cell_type": "code",
   "execution_count": 19,
   "id": "6c3a5dc9",
   "metadata": {},
   "outputs": [
    {
     "name": "stdout",
     "output_type": "stream",
     "text": [
      "input up, down, left, or rightup\n"
     ]
    }
   ],
   "source": [
    "inputstr = input(\"input up, down, left, or right\")\n",
    "\n",
    "import matplotlib.pyplot as plt \n",
    "\n",
    "if (inputstr == 'up'):\n",
    "    \n",
    "elif (inputstr == 'down'):\n",
    "elif (inputstr == 'left'):\n",
    "elif (inputstr == 'right'):\n",
    "else: \n",
    "    print(\"invalid input. input up, down, left, or right\")"
   ]
  },
  {
   "cell_type": "markdown",
   "id": "2aa06390",
   "metadata": {},
   "source": [
    "### basic function"
   ]
  },
  {
   "cell_type": "markdown",
   "id": "78160ac7",
   "metadata": {},
   "source": [
    "Given lists x and y, where one list is longer by only one number, find the unique number contained within the list. For example, if list x = [1, 2, 8, 3, 4, 5] and list y = [1, 2, 3, 4, 5], the output would be 8."
   ]
  },
  {
   "cell_type": "code",
   "execution_count": 4,
   "id": "cd5018c9",
   "metadata": {},
   "outputs": [
    {
     "data": {
      "text/plain": [
       "8"
      ]
     },
     "execution_count": 4,
     "metadata": {},
     "output_type": "execute_result"
    }
   ],
   "source": [
    "x = [1, 2, 8, 3, 4, 5]\n",
    "y = [1, 2, 3, 4, 5]\n",
    "\n",
    "def listeval(x, y):\n",
    "    if (len(x) > len(y)): # x has the extra number\n",
    "        for n in range (0, len(x)):\n",
    "            a = 0\n",
    "            for m in range (0, len(y)):\n",
    "                if (x[n] == y[m]):\n",
    "                    a = 1\n",
    "            if (a==1):\n",
    "                continue\n",
    "            else:\n",
    "                return x[n]\n",
    "    else: # y has the extra number\n",
    "        for n in range (0, len(y)):\n",
    "            a = 0\n",
    "            for m in range (0, len(x)):\n",
    "                if (x[m] == y[n]):\n",
    "                    a = 1\n",
    "            if (a==1):\n",
    "                continue\n",
    "            else:\n",
    "                return y[n]\n",
    "\n",
    "listeval(x, y)"
   ]
  },
  {
   "cell_type": "markdown",
   "id": "0a9f6736",
   "metadata": {},
   "source": [
    "A \"lucky triple\" is a tuple (x, y, z) where x divides y and y divides z, such as (1, 2, 4). Write a function solution(l) that takes a list of positive integers l and counts the number of \"lucky triples\" of (li, lj, lk) where the list indices meet the requirement i < j < k. The length of l is between 2 and 2000 inclusive. The elements of l are between 1 and 999999 inclusive. The solution fits within a signed 32-bit integer. Some of the lists are purposely generated without any access codes to throw off spies, so if no triples are found, return 0.\n",
    "For example, [1, 2, 3, 4, 5, 6] has the triples: [1, 2, 4], [1, 2, 6], [1, 3, 6], making the solution 3 total."
   ]
  },
  {
   "cell_type": "code",
   "execution_count": 2,
   "id": "eccad252",
   "metadata": {},
   "outputs": [],
   "source": [
    "def solution(l): \n",
    "    \n",
    "    length = len(l)\n",
    "    \n",
    "    if (not l or length < 3 or length > 2000):\n",
    "        return 0\n",
    "    \n",
    "    count = 0\n",
    "\n",
    "    for x in range(length - 2):\n",
    "        for y in range(x+1, length - 1):\n",
    "            for z in range(y+1, length):\n",
    "                if (l[x] < 1 or l[y] < 1 or l[z] < 1 or l[x]>999999 or l[y]>999999 or l[z]>999999):\n",
    "                    count += 0\n",
    "                elif ((l[z] % l[y] == 0) and (l[y] % l[x] == 0)):\n",
    "                        count += 1\n",
    "                else:\n",
    "                    count += 0\n",
    "    \n",
    "    return count \n",
    "\n",
    "# test cases\n",
    "a = solution([1, 1, 1])\n",
    "assert(a==1)\n",
    "b = solution([1, 2, 3, 4, 5, 6])\n",
    "assert(b==3)\n",
    "c = solution([1])\n",
    "assert(c==0)\n",
    "d = solution([1, 2])\n",
    "assert(d==0)\n",
    "e = solution([2, 4])\n",
    "assert(e==0)\n",
    "f = solution([1, 1, 1, 1])\n",
    "assert(f==4)\n",
    "g = solution([1, 1, 1, 1, 1])\n",
    "assert(g==10)\n",
    "h = solution([1, 1, 1, 1, 1, 1])\n",
    "assert(h==20)\n",
    "i = solution([1, 1, 1, 1, 1, 1, 1])\n",
    "assert(i==35)\n",
    "j = solution([1, 1, 2])\n",
    "assert(j==1)\n",
    "k = solution([1, 1, 2, 2])\n",
    "assert(k==4)\n",
    "l = solution([1, 1, 2, 2, 2])\n",
    "assert(l==10)\n",
    "m = solution([1, 1, 2, 2, 2, 3])\n",
    "assert(m==11)\n",
    "n = solution([1, 2, 4, 8, 16])\n",
    "assert(n==10)\n",
    "o = solution([2, 4, 5, 9, 12, 34, 45])\n",
    "assert(o==1)\n",
    "p = solution([2, 2, 2, 2, 4, 4, 5, 6, 8, 8, 8])\n",
    "assert(p==90)\n",
    "q = solution([2, 4, 8])\n",
    "assert(q==1)\n",
    "r = solution([2, 4, 8, 16])\n",
    "assert(r==4)\n",
    "s = solution([3, 4, 2, 7])\n",
    "assert(s==0)\n",
    "t = solution([6, 5, 4, 3, 2, 1])\n",
    "assert(t==0)\n",
    "u = solution([4, 7, 14])\n",
    "assert(u==0)\n",
    "v = solution([4, 21, 7, 14, 8, 56, 56, 42])\n",
    "assert(v==9)\n",
    "w = solution([4, 21, 7, 14, 56, 8, 56, 4, 42])\n",
    "assert(w==7)\n",
    "x = solution([4, 7, 14, 8, 21, 56, 42])\n",
    "assert(x==4)\n",
    "y = solution([4, 8, 4, 16])\n",
    "assert(y==2)"
   ]
  }
 ],
 "metadata": {
  "kernelspec": {
   "display_name": "Python 3 (ipykernel)",
   "language": "python",
   "name": "python3"
  },
  "language_info": {
   "codemirror_mode": {
    "name": "ipython",
    "version": 3
   },
   "file_extension": ".py",
   "mimetype": "text/x-python",
   "name": "python",
   "nbconvert_exporter": "python",
   "pygments_lexer": "ipython3",
   "version": "3.9.7"
  }
 },
 "nbformat": 4,
 "nbformat_minor": 5
}
